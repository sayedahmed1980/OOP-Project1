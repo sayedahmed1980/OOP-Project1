{
 "cells": [
  {
   "cell_type": "markdown",
   "metadata": {
    "id": "rh2G6qlOV36a"
   },
   "source": [
    "![image.png](attachment:image.png)"
   ]
  },
  {
   "cell_type": "markdown",
   "metadata": {
    "id": "_bWILX82V36c"
   },
   "source": [
    "> ### The Central Bank contacted our technical team and asked it to develop a program suitable for all banks, with the addition of some advantages for certain banks"
   ]
  },
  {
   "cell_type": "markdown",
   "metadata": {
    "id": "vqxOn0l8V36d"
   },
   "source": [
    "# Task 1 : \n",
    "- #### task 1.1 Make Class(User) with attributes:\n",
    "    - name \n",
    "    - age \n",
    "    - gender \n",
    "    - balance\n",
    "- #### task 1.2 Make method to show previous data "
   ]
  },
  {
   "cell_type": "code",
   "execution_count": 35,
   "metadata": {
    "id": "NVzbvXicV36e"
   },
   "outputs": [],
   "source": [
    "class User():\n",
    "    \n",
    "    def __init__(self , name , age , gender , balance):\n",
    "        self.name = name \n",
    "        self.age = age \n",
    "        self.gender = gender \n",
    "        self.balance = balance \n",
    "        \n",
    "        \n",
    "    def Display(self):\n",
    "        print(f'''\n",
    "        name : {self.name}\n",
    "        age : {self.age}\n",
    "        gender : {self.gender}\n",
    "        balance : {self.balance}\n",
    "        ''')\n",
    "    "
   ]
  },
  {
   "cell_type": "code",
   "execution_count": 38,
   "metadata": {},
   "outputs": [],
   "source": [
    "user = User(name='ali' , age=23 , gender='male' , balance=1000_000)"
   ]
  },
  {
   "cell_type": "code",
   "execution_count": 39,
   "metadata": {},
   "outputs": [
    {
     "data": {
      "text/plain": [
       "1000000"
      ]
     },
     "execution_count": 39,
     "metadata": {},
     "output_type": "execute_result"
    }
   ],
   "source": [
    "user.balance"
   ]
  },
  {
   "cell_type": "code",
   "execution_count": 40,
   "metadata": {},
   "outputs": [
    {
     "name": "stdout",
     "output_type": "stream",
     "text": [
      "\n",
      "        name : ali\n",
      "        age : 23\n",
      "        gender : male\n",
      "        balance : 1000000\n",
      "        \n"
     ]
    }
   ],
   "source": [
    "user.Display()"
   ]
  },
  {
   "cell_type": "markdown",
   "metadata": {
    "id": "RNkANWLDV36f"
   },
   "source": [
    "# Task 2 : \n",
    "- Make Child Class(Bank) which inherite from Class(user) with Mehods:\n",
    "    - #### task 2.1 deposite : which take parameter(amount) and add it to balance and print new balance.  \n",
    "    - #### task 2.2 withdraw : which take parameter(amount) and check if user have enough money. \n",
    "    - #### task 2.3 view balance : to show current balance. \n"
   ]
  },
  {
   "cell_type": "code",
   "execution_count": 58,
   "metadata": {
    "id": "_MFBtRLhV36f"
   },
   "outputs": [],
   "source": [
    "class Bank(User):\n",
    "    \n",
    "    def Deposite(self , amount ):\n",
    "        self.balance += amount\n",
    "        \n",
    "        \n",
    "    def Withdraw(self , amount):\n",
    "        \n",
    "        if amount <= self.balance:\n",
    "            self.balance -= amount\n",
    "            print('Done!')\n",
    "        else :\n",
    "            print('not enougth money')\n",
    "            \n",
    "    def ViewBalance(self):\n",
    "        print(f'{self.balance}')\n",
    "    \n",
    "    \n",
    "    "
   ]
  },
  {
   "cell_type": "code",
   "execution_count": 59,
   "metadata": {},
   "outputs": [],
   "source": [
    "bank = Bank(name='ali' , age=23 , gender='male' , balance=1000_000)"
   ]
  },
  {
   "cell_type": "code",
   "execution_count": 60,
   "metadata": {},
   "outputs": [
    {
     "data": {
      "text/plain": [
       "1000000"
      ]
     },
     "execution_count": 60,
     "metadata": {},
     "output_type": "execute_result"
    }
   ],
   "source": [
    "bank.balance"
   ]
  },
  {
   "cell_type": "code",
   "execution_count": 61,
   "metadata": {},
   "outputs": [],
   "source": [
    "bank.Deposite(1000)"
   ]
  },
  {
   "cell_type": "code",
   "execution_count": 62,
   "metadata": {},
   "outputs": [
    {
     "name": "stdout",
     "output_type": "stream",
     "text": [
      "\n",
      "        name : ali\n",
      "        age : 23\n",
      "        gender : male\n",
      "        balance : 1001000\n",
      "        \n"
     ]
    }
   ],
   "source": [
    "bank.Display()"
   ]
  },
  {
   "cell_type": "code",
   "execution_count": 63,
   "metadata": {},
   "outputs": [
    {
     "name": "stdout",
     "output_type": "stream",
     "text": [
      "Done!\n"
     ]
    }
   ],
   "source": [
    "bank.Withdraw(1000)"
   ]
  },
  {
   "cell_type": "code",
   "execution_count": 53,
   "metadata": {},
   "outputs": [
    {
     "name": "stdout",
     "output_type": "stream",
     "text": [
      "\n",
      "        name : ali\n",
      "        age : 23\n",
      "        gender : male\n",
      "        balance : 1000000\n",
      "        \n"
     ]
    }
   ],
   "source": [
    "bank.Display()"
   ]
  },
  {
   "cell_type": "code",
   "execution_count": 64,
   "metadata": {
    "scrolled": true
   },
   "outputs": [
    {
     "name": "stdout",
     "output_type": "stream",
     "text": [
      "Done!\n"
     ]
    }
   ],
   "source": [
    "bank.Withdraw(1000_000)"
   ]
  },
  {
   "cell_type": "code",
   "execution_count": 65,
   "metadata": {},
   "outputs": [
    {
     "name": "stdout",
     "output_type": "stream",
     "text": [
      "\n",
      "        name : ali\n",
      "        age : 23\n",
      "        gender : male\n",
      "        balance : 0\n",
      "        \n"
     ]
    }
   ],
   "source": [
    "bank.Display()"
   ]
  },
  {
   "cell_type": "code",
   "execution_count": 66,
   "metadata": {},
   "outputs": [
    {
     "name": "stdout",
     "output_type": "stream",
     "text": [
      "not enougth money\n"
     ]
    }
   ],
   "source": [
    "bank.Withdraw(1000)"
   ]
  },
  {
   "cell_type": "markdown",
   "metadata": {
    "id": "Nd7I-lv3V36g"
   },
   "source": [
    "# Task 3 : \n",
    "- #### task 3.1 Make Child Class(CIB) which inherite from Class(Bank) with Mehods:\n",
    "    -   Loan application: which take parameter(amount) and  (Duration) >> max loan is one million\n",
    "- #### task 3.2 Make Child Class(QNB) which inherite from Class(Bank) with Mehods:\n",
    "    -   Loan application: which take parameter(amount) and  (Duration) >> max loan is one 2 million"
   ]
  },
  {
   "cell_type": "code",
   "execution_count": 67,
   "metadata": {},
   "outputs": [],
   "source": [
    "class CIB(Bank):\n",
    "    \n",
    "    def LoanApp(self , amount , duration):\n",
    "        if amount < 1000_000:\n",
    "            print('Done!')\n",
    "            \n",
    "            \n",
    "        else :\n",
    "            print('max loan one million')\n",
    "            \n",
    "            \n",
    "            \n",
    "class QNB(Bank):\n",
    "    \n",
    "    def LoanApp(self , amount , duration):\n",
    "        if amount < 2000_000:\n",
    "            print('Done!')\n",
    "            \n",
    "            \n",
    "        else :\n",
    "            print('max loan two million')\n",
    "    \n",
    "    "
   ]
  },
  {
   "cell_type": "code",
   "execution_count": 70,
   "metadata": {},
   "outputs": [],
   "source": [
    "qnb = QNB(name='ali' , age=23 , gender='male' , balance=1000_000)"
   ]
  },
  {
   "cell_type": "code",
   "execution_count": 71,
   "metadata": {},
   "outputs": [
    {
     "name": "stdout",
     "output_type": "stream",
     "text": [
      "Done!\n"
     ]
    }
   ],
   "source": [
    "qnb.LoanApp(100_000 , 20)"
   ]
  },
  {
   "cell_type": "code",
   "execution_count": 73,
   "metadata": {},
   "outputs": [
    {
     "name": "stdout",
     "output_type": "stream",
     "text": [
      "max loan two million\n"
     ]
    }
   ],
   "source": [
    "qnb.LoanApp(1000_000000 , 1)"
   ]
  },
  {
   "cell_type": "code",
   "execution_count": null,
   "metadata": {},
   "outputs": [],
   "source": []
  }
 ],
 "metadata": {
  "colab": {
   "provenance": []
  },
  "kernelspec": {
   "display_name": "Python 3 (ipykernel)",
   "language": "python",
   "name": "python3"
  },
  "language_info": {
   "codemirror_mode": {
    "name": "ipython",
    "version": 3
   },
   "file_extension": ".py",
   "mimetype": "text/x-python",
   "name": "python",
   "nbconvert_exporter": "python",
   "pygments_lexer": "ipython3",
   "version": "3.10.4"
  }
 },
 "nbformat": 4,
 "nbformat_minor": 1
}
